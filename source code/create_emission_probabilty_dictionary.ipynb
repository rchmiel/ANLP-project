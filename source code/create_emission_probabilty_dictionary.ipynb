{
 "cells": [
  {
   "cell_type": "code",
   "execution_count": 1,
   "metadata": {
    "collapsed": true
   },
   "outputs": [],
   "source": [
    "#---------------------------------------------------------------------\n",
    "#This code calculates the emission probabilities and stores them in file\n",
    "#---------------------------------------------------------------------\n",
    "\n",
    "import itertools\n",
    "import nltk\n",
    "\n",
    "#open and load tagged topic corpus\n",
    "topic_file_tagged = open(\"..\\\\data\\\\stanford_tagged_topic_corpus.txt\", encoding= \"utf-8\")\n",
    "topic_text_tagged = eval(topic_file_tagged.read())\n",
    "\n",
    "#flatten the topic corpus\n",
    "flatten_topic_corpus = tuple(itertools.chain.from_iterable(topic_text_tagged))\n",
    "\n",
    "#calculate frequencies of word, tag pairs\n",
    "freq_emission = nltk.FreqDist(flatten_topic_corpus).most_common()\n",
    "\n",
    "#create an emission dict\n",
    "emission_dict = {}\n",
    "for freq in freq_emission:\n",
    "    if freq[0][1] in emission_dict:\n",
    "        emission_dict[freq[0][1]].append({freq[0][0]:freq[1]}) #(('NN', 'END'), 14673)\n",
    "    else:\n",
    "        emission_dict[freq[0][1]] = [{freq[0][0]:freq[1]}]\n",
    "        \n",
    "#create a dictionary with probabilities of word/tag pairs\n",
    "prob_emission_dict = {}\n",
    "for first_tag in emission_dict:\n",
    "    dict_tag = {} #create (somelist)\n",
    "    \n",
    "    #a new dict for every tag\n",
    "    sum_all = 0 #reset the counter for every tag\n",
    "    for pair in emission_dict[first_tag]: #add up all counts\n",
    "        for tag, count in pair.items():\n",
    "            sum_all += count\n",
    "    for pair in emission_dict[first_tag]: #calculate the prob for the 2nd tag\n",
    "        for tag, count in pair.items():\n",
    "            dict_tag[tag] = count/sum_all\n",
    "    prob_emission_dict.update({first_tag: dict_tag}) #add the tag dict to the all-tag dict\n",
    "    \n",
    "emission_dict = open(\"..\\\\data\\\\emission_dict.txt\", \"w\")\n",
    "emission_dict.write(str(prob_emission_dict))\n",
    "emission_dict.close()"
   ]
  }
 ],
 "metadata": {
  "kernelspec": {
   "display_name": "Python 3",
   "language": "python",
   "name": "python3"
  },
  "language_info": {
   "codemirror_mode": {
    "name": "ipython",
    "version": 3
   },
   "file_extension": ".py",
   "mimetype": "text/x-python",
   "name": "python",
   "nbconvert_exporter": "python",
   "pygments_lexer": "ipython3",
   "version": "3.6.2"
  }
 },
 "nbformat": 4,
 "nbformat_minor": 2
}
